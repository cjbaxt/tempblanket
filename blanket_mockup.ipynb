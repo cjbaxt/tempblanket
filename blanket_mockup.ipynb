{
 "cells": [
  {
   "cell_type": "markdown",
   "id": "8d7737ca-43f4-41c7-aaec-007f57e28afd",
   "metadata": {},
   "source": [
    "# Temperature blanket, choosing colours\n",
    "A notebook for playing around with temperatures and colours in order to make the most beautiful temperature blanket\n",
    "\n",
    "\n",
    "## Load information"
   ]
  },
  {
   "cell_type": "code",
   "execution_count": 2,
   "id": "87ae3b41-8736-48cb-94b8-4ddecd509ac4",
   "metadata": {},
   "outputs": [],
   "source": [
    "import colorsys\n",
    "import pandas as pd\n",
    "import glob\n",
    "import matplotlib.pyplot as plt\n",
    "import numpy as np\n",
    "import matplotlib.colors\n",
    "from matplotlib.colors import ListedColormap\n",
    "\n",
    "pd.set_option('display.max_rows', 10)"
   ]
  },
  {
   "cell_type": "code",
   "execution_count": 3,
   "id": "2dac5f5b-59dd-42fc-aefc-f70ee05da656",
   "metadata": {},
   "outputs": [
    {
     "name": "stdout",
     "output_type": "stream",
     "text": [
      "['edinburgh_temps/Feb.txt', 'edinburgh_temps/Dec.txt', 'edinburgh_temps/Apr.txt', 'edinburgh_temps/Jun.txt', 'edinburgh_temps/Jul.txt', 'edinburgh_temps/Nov.txt', 'edinburgh_temps/Jan.txt', 'edinburgh_temps/May.txt', 'edinburgh_temps/Aug.txt', 'edinburgh_temps/March.txt', 'edinburgh_temps/Oct.txt', 'edinburgh_temps/Sept.txt']\n"
     ]
    }
   ],
   "source": [
    "# Load the monthly temperatures for 2021 from edinburgh\n",
    "files = glob.glob('edinburgh_temps/*')\n",
    "print(files)"
   ]
  },
  {
   "cell_type": "code",
   "execution_count": 4,
   "id": "66405eb7-66ba-48c3-b3b5-b4de14aa8424",
   "metadata": {},
   "outputs": [
    {
     "data": {
      "text/html": [
       "<div>\n",
       "<style scoped>\n",
       "    .dataframe tbody tr th:only-of-type {\n",
       "        vertical-align: middle;\n",
       "    }\n",
       "\n",
       "    .dataframe tbody tr th {\n",
       "        vertical-align: top;\n",
       "    }\n",
       "\n",
       "    .dataframe thead th {\n",
       "        text-align: right;\n",
       "    }\n",
       "</style>\n",
       "<table border=\"1\" class=\"dataframe\">\n",
       "  <thead>\n",
       "    <tr style=\"text-align: right;\">\n",
       "      <th></th>\n",
       "      <th>max</th>\n",
       "      <th>avg</th>\n",
       "      <th>min</th>\n",
       "      <th>date</th>\n",
       "    </tr>\n",
       "  </thead>\n",
       "  <tbody>\n",
       "    <tr>\n",
       "      <th>0</th>\n",
       "      <td>4</td>\n",
       "      <td>-0.5</td>\n",
       "      <td>-5</td>\n",
       "      <td>2021-01-01</td>\n",
       "    </tr>\n",
       "    <tr>\n",
       "      <th>1</th>\n",
       "      <td>2</td>\n",
       "      <td>-3.1</td>\n",
       "      <td>-7</td>\n",
       "      <td>2021-01-02</td>\n",
       "    </tr>\n",
       "    <tr>\n",
       "      <th>2</th>\n",
       "      <td>4</td>\n",
       "      <td>0.3</td>\n",
       "      <td>-7</td>\n",
       "      <td>2021-01-03</td>\n",
       "    </tr>\n",
       "    <tr>\n",
       "      <th>3</th>\n",
       "      <td>4</td>\n",
       "      <td>3.0</td>\n",
       "      <td>2</td>\n",
       "      <td>2021-01-04</td>\n",
       "    </tr>\n",
       "    <tr>\n",
       "      <th>4</th>\n",
       "      <td>4</td>\n",
       "      <td>2.3</td>\n",
       "      <td>-2</td>\n",
       "      <td>2021-01-05</td>\n",
       "    </tr>\n",
       "    <tr>\n",
       "      <th>...</th>\n",
       "      <td>...</td>\n",
       "      <td>...</td>\n",
       "      <td>...</td>\n",
       "      <td>...</td>\n",
       "    </tr>\n",
       "    <tr>\n",
       "      <th>26</th>\n",
       "      <td>6</td>\n",
       "      <td>3.8</td>\n",
       "      <td>1</td>\n",
       "      <td>2021-12-27</td>\n",
       "    </tr>\n",
       "    <tr>\n",
       "      <th>27</th>\n",
       "      <td>7</td>\n",
       "      <td>5.0</td>\n",
       "      <td>1</td>\n",
       "      <td>2021-12-28</td>\n",
       "    </tr>\n",
       "    <tr>\n",
       "      <th>28</th>\n",
       "      <td>11</td>\n",
       "      <td>7.0</td>\n",
       "      <td>1</td>\n",
       "      <td>2021-12-29</td>\n",
       "    </tr>\n",
       "    <tr>\n",
       "      <th>29</th>\n",
       "      <td>13</td>\n",
       "      <td>11.2</td>\n",
       "      <td>9</td>\n",
       "      <td>2021-12-30</td>\n",
       "    </tr>\n",
       "    <tr>\n",
       "      <th>30</th>\n",
       "      <td>13</td>\n",
       "      <td>10.6</td>\n",
       "      <td>8</td>\n",
       "      <td>2021-12-31</td>\n",
       "    </tr>\n",
       "  </tbody>\n",
       "</table>\n",
       "<p>365 rows × 4 columns</p>\n",
       "</div>"
      ],
      "text/plain": [
       "    max   avg  min       date\n",
       "0     4  -0.5   -5 2021-01-01\n",
       "1     2  -3.1   -7 2021-01-02\n",
       "2     4   0.3   -7 2021-01-03\n",
       "3     4   3.0    2 2021-01-04\n",
       "4     4   2.3   -2 2021-01-05\n",
       "..  ...   ...  ...        ...\n",
       "26    6   3.8    1 2021-12-27\n",
       "27    7   5.0    1 2021-12-28\n",
       "28   11   7.0    1 2021-12-29\n",
       "29   13  11.2    9 2021-12-30\n",
       "30   13  10.6    8 2021-12-31\n",
       "\n",
       "[365 rows x 4 columns]"
      ]
     },
     "metadata": {},
     "output_type": "display_data"
    }
   ],
   "source": [
    "# Concatendate all the months together and add a date\n",
    "df_lst = []\n",
    "for f in files: \n",
    "    df = pd.read_csv(f, delimiter='\\t', names = ['max', 'avg', 'min'])\n",
    "    month = f.replace('edinburgh_temps/','').replace('.txt','-')\n",
    "    df['date'] = pd.to_datetime(['2021-' + month + str(ind + 1) for ind in df.index.values])\n",
    "    df_lst.append(df)\n",
    "    \n",
    "df_temp = pd.concat(df_lst, axis = 0).sort_values(by='date')\n",
    "display(df_temp)"
   ]
  },
  {
   "cell_type": "code",
   "execution_count": 5,
   "id": "acd010b5-d431-4eac-abc4-8ad49179c5a6",
   "metadata": {},
   "outputs": [
    {
     "data": {
      "text/plain": [
       "Text(0, 0.5, 'Avg Temperature')"
      ]
     },
     "execution_count": 5,
     "metadata": {},
     "output_type": "execute_result"
    },
    {
     "data": {
      "image/png": "[encoded data removed]",
      "text/plain": [
       "<Figure size 1440x360 with 1 Axes>"
      ]
     },
     "metadata": {
      "needs_background": "light"
     },
     "output_type": "display_data"
    }
   ],
   "source": [
    "# Plot the average temperature over the year\n",
    "fig, ax = plt.subplots(1,1,figsize = (20,5))\n",
    "ax.plot(df_temp['date'], df_temp['avg'])\n",
    "ax.set_xlabel('Date')\n",
    "ax.set_ylabel('Avg Temperature')"
   ]
  },
  {
   "cell_type": "markdown",
   "id": "3aa60792-d8a0-4ee2-bc27-8db59e19933f",
   "metadata": {},
   "source": [
    "## Binning the temperatures\n",
    "We want to bin the temperatures so we know what colour to do for each average temperature\n",
    "- Uniform bins: Take the maximum and minimum temperature and divide the difference by the number of bins \n",
    "- Scaled bins: Scale the bins so that each bin has the same number of values and so the colours appear the same number of times in your blanket\n",
    "- Mums bins (:D): The bins that were recommended from the blog that she was using \n",
    "- Best bins: A version of scaled bins, tweaked a little based on preferences"
   ]
  },
  {
   "cell_type": "code",
   "execution_count": 6,
   "id": "9310f2b5-d6d1-43ec-8044-9e247cac6ccf",
   "metadata": {},
   "outputs": [
    {
     "name": "stdout",
     "output_type": "stream",
     "text": [
      "[-8.2  -5.41 -2.62  0.17  2.96  5.75  8.54 11.33 14.12 16.91 19.7 ]\n"
     ]
    },
    {
     "data": {
      "image/png": "[encoded data removed]",
      "text/plain": [
       "<Figure size 432x288 with 1 Axes>"
      ]
     },
     "metadata": {
      "needs_background": "light"
     },
     "output_type": "display_data"
    }
   ],
   "source": [
    "# If you bin uniformly (dividing the range by 10 then you get bins like this)\n",
    "x = df_temp['avg']\n",
    "n, uniform_bins, patches = plt.hist(x, 10, edgecolor = 'k')\n",
    "plt.xlabel('Avg Temperatre')\n",
    "print(uniform_bins)\n",
    "# This will result in very few cool colours"
   ]
  },
  {
   "cell_type": "code",
   "execution_count": 7,
   "id": "ce278725-1b7c-46dd-8612-d3b636ed663f",
   "metadata": {},
   "outputs": [
    {
     "name": "stdout",
     "output_type": "stream",
     "text": [
      "[-8.2   2.2   4.4   6.3   7.8   9.4  10.9  13.25 14.5  16.   19.7 ]\n"
     ]
    },
    {
     "data": {
      "image/png": "[encoded data removed]",
      "text/plain": [
       "<Figure size 432x288 with 1 Axes>"
      ]
     },
     "metadata": {
      "needs_background": "light"
     },
     "output_type": "display_data"
    }
   ],
   "source": [
    "# So we try binning so that the colours will occur the same number of times\n",
    "def histedges_equalN(x, nbin):\n",
    "    npt = len(x)\n",
    "    return np.interp(np.linspace(0, npt, nbin + 1),\n",
    "                     np.arange(npt),\n",
    "                     np.sort(x))\n",
    "\n",
    "x = df_temp['avg']\n",
    "n, bins, patches = plt.hist(x, histedges_equalN(x, 10), edgecolor = 'k')\n",
    "plt.xlabel('Avg Temperatre')\n",
    "print(bins)"
   ]
  },
  {
   "cell_type": "code",
   "execution_count": 8,
   "id": "10375e3e-1ab8-408c-aa03-765c39cb8e62",
   "metadata": {},
   "outputs": [
    {
     "data": {
      "image/png": "[encoded data removed]",
      "text/plain": [
       "<Figure size 432x288 with 1 Axes>"
      ]
     },
     "metadata": {
      "needs_background": "light"
     },
     "output_type": "display_data"
    }
   ],
   "source": [
    "# The bins that the website suggested for mum\n",
    "mums_bins = [-8.2,4,6,8,10,12,14,16,18,20,30]\n",
    "n, mums_bins, patches = plt.hist(x, mums_bins, edgecolor = 'k')"
   ]
  },
  {
   "cell_type": "code",
   "execution_count": 9,
   "id": "6a92476d-ed87-442c-aad2-4ff6c32f6c83",
   "metadata": {},
   "outputs": [
    {
     "data": {
      "image/png": "[encoded data removed]",
      "text/plain": [
       "<Figure size 432x288 with 1 Axes>"
      ]
     },
     "metadata": {
      "needs_background": "light"
     },
     "output_type": "display_data"
    }
   ],
   "source": [
    "# Possibly the best bins ever (tweak to your hearts desire)\n",
    "best_bins = [-8.2,   2.2,   4.5,   6.4,   7.9,   9.5,  11.0,  13.35, 14.8,  16.5,   19.7 ]\n",
    "n, best_bins, patches = plt.hist(x, best_bins, edgecolor = 'k')"
   ]
  },
  {
   "cell_type": "markdown",
   "id": "7db8e53b-7baf-4fd6-97dd-893e8b8e8643",
   "metadata": {},
   "source": [
    "## Choosing and sorting the colours\n",
    "- Choose your colours and get them in hex format and turn them into RGB codes\n",
    "- If you have chosen too many, like us, then pick your favourite 10\n",
    "- Sort the colours and display colormap"
   ]
  },
  {
   "cell_type": "code",
   "execution_count": 27,
   "id": "1a5514a9-b465-4cd8-8b4d-3777218207ee",
   "metadata": {},
   "outputs": [],
   "source": [
    "# We chose 13 colours but only want to use 10, I have put them all here so we can play around with our favs\n",
    "colour_dic = {'Paper White':'#e9e9ea', #'Paper White':'#ffffff',\n",
    "              'Duck Egg Blue':'#c8d2e5', 'Spearmint Green':'#8fc996', \n",
    "            'Pistachio Green':'#b9bea8','Slate Green':'#63887c',  'Slate Grey':'#8c8587', \n",
    "           'Vanilla Cream':'#e6d0b7', 'Light Caramel':'#e1b485', 'Glorious Gold':'#c98023', \n",
    "           'Red Wine':'#700421', 'Granite Grey': '#4a4445', 'Elephant Grey':'#bfb8b0',\n",
    "           'Blush Pink':'#eba5a2'}\n",
    "\n",
    "# selected_colours = ['Elephant Grey', 'Slate Grey','Granite Grey' ,'Pistachio Green', 'Slate Green', \n",
    "#                     'Vanilla Cream', 'Light Caramel', 'Glorious Gold','Blush Pink', 'Red Wine']\n",
    "\n",
    "selected_colours = ['Duck Egg Blue', 'Elephant Grey', 'Slate Grey','Pistachio Green', 'Slate Green', \n",
    "                    'Vanilla Cream', 'Light Caramel', 'Glorious Gold','Blush Pink', 'Red Wine']\n",
    "\n",
    "# List the selected colours\n",
    "color_list = [colour_dic[c] for c in selected_colours]\n",
    "rgb_color_list = [matplotlib.colors.to_rgb(c) for c in color_list]"
   ]
  },
  {
   "cell_type": "code",
   "execution_count": 28,
   "id": "b292e9e8-d776-4f32-9263-3697ac1d7ad6",
   "metadata": {},
   "outputs": [
    {
     "data": {
      "text/plain": [
       "<matplotlib.colorbar.ColorbarBase at 0x7fd1ea6a9970>"
      ]
     },
     "execution_count": 28,
     "metadata": {},
     "output_type": "execute_result"
    },
    {
     "data": {
      "image/png": "[encoded data removed]",
      "text/plain": [
       "<Figure size 432x43.2 with 1 Axes>"
      ]
     },
     "metadata": {
      "needs_background": "light"
     },
     "output_type": "display_data"
    }
   ],
   "source": [
    "# Sort the colours and display colormap\n",
    "def get_hsv(hexrgb):\n",
    "    hexrgb = hexrgb.lstrip(\"#\")   # in case you have Web color specs\n",
    "    r, g, b = (int(hexrgb[i:i+2], 16) / 255.0 for i in range(0,5,2))\n",
    "    return colorsys.rgb_to_hsv(r, g, b)\n",
    "\n",
    "\n",
    "# 0, 1 or 2 to sort by Red, Green or Blue (I like Red)\n",
    "# color_list = [matplotlib.colors.to_rgb(c) for c in color_list]\n",
    "rgb_color_list.sort(key=lambda x: x[1]) \n",
    "\n",
    "# Or you can sort by hue\n",
    "#color_list.sort(key=get_hsv)\n",
    "\n",
    "# Display colourmap\n",
    "color_ramp = ListedColormap(color_list)\n",
    "fig, ax = plt.subplots(figsize=(6,0.6))\n",
    "matplotlib.colorbar.ColorbarBase(ax, cmap=color_ramp, orientation = 'horizontal')"
   ]
  },
  {
   "cell_type": "markdown",
   "id": "a0e0ea16-4d77-4f5c-8c62-8307947d35ab",
   "metadata": {},
   "source": [
    "## Bin temperatures and simulate blanket"
   ]
  },
  {
   "cell_type": "code",
   "execution_count": 23,
   "id": "4755b49d-c84e-496c-9aa7-21e8018a7df8",
   "metadata": {},
   "outputs": [
    {
     "data": {
      "text/html": [
       "<div>\n",
       "<style scoped>\n",
       "    .dataframe tbody tr th:only-of-type {\n",
       "        vertical-align: middle;\n",
       "    }\n",
       "\n",
       "    .dataframe tbody tr th {\n",
       "        vertical-align: top;\n",
       "    }\n",
       "\n",
       "    .dataframe thead th {\n",
       "        text-align: right;\n",
       "    }\n",
       "</style>\n",
       "<table border=\"1\" class=\"dataframe\">\n",
       "  <thead>\n",
       "    <tr style=\"text-align: right;\">\n",
       "      <th></th>\n",
       "      <th>max</th>\n",
       "      <th>avg</th>\n",
       "      <th>min</th>\n",
       "      <th>date</th>\n",
       "      <th>uniform_bins</th>\n",
       "      <th>scaled_bins</th>\n",
       "      <th>mums_bins</th>\n",
       "      <th>best_bins</th>\n",
       "    </tr>\n",
       "  </thead>\n",
       "  <tbody>\n",
       "    <tr>\n",
       "      <th>0</th>\n",
       "      <td>4</td>\n",
       "      <td>-0.5</td>\n",
       "      <td>-5</td>\n",
       "      <td>2021-01-01</td>\n",
       "      <td>#c8d2e5</td>\n",
       "      <td>#8c8587</td>\n",
       "      <td>#c8d2e5</td>\n",
       "      <td>#c8d2e5</td>\n",
       "    </tr>\n",
       "    <tr>\n",
       "      <th>1</th>\n",
       "      <td>2</td>\n",
       "      <td>-3.1</td>\n",
       "      <td>-7</td>\n",
       "      <td>2021-01-02</td>\n",
       "      <td>#c8d2e5</td>\n",
       "      <td>#bfb8b0</td>\n",
       "      <td>#c8d2e5</td>\n",
       "      <td>#c8d2e5</td>\n",
       "    </tr>\n",
       "    <tr>\n",
       "      <th>2</th>\n",
       "      <td>4</td>\n",
       "      <td>0.3</td>\n",
       "      <td>-7</td>\n",
       "      <td>2021-01-03</td>\n",
       "      <td>#c8d2e5</td>\n",
       "      <td>#b9bea8</td>\n",
       "      <td>#c8d2e5</td>\n",
       "      <td>#c8d2e5</td>\n",
       "    </tr>\n",
       "    <tr>\n",
       "      <th>3</th>\n",
       "      <td>4</td>\n",
       "      <td>3.0</td>\n",
       "      <td>2</td>\n",
       "      <td>2021-01-04</td>\n",
       "      <td>#bfb8b0</td>\n",
       "      <td>#63887c</td>\n",
       "      <td>#c8d2e5</td>\n",
       "      <td>#bfb8b0</td>\n",
       "    </tr>\n",
       "    <tr>\n",
       "      <th>4</th>\n",
       "      <td>4</td>\n",
       "      <td>2.3</td>\n",
       "      <td>-2</td>\n",
       "      <td>2021-01-05</td>\n",
       "      <td>#bfb8b0</td>\n",
       "      <td>#b9bea8</td>\n",
       "      <td>#c8d2e5</td>\n",
       "      <td>#bfb8b0</td>\n",
       "    </tr>\n",
       "    <tr>\n",
       "      <th>...</th>\n",
       "      <td>...</td>\n",
       "      <td>...</td>\n",
       "      <td>...</td>\n",
       "      <td>...</td>\n",
       "      <td>...</td>\n",
       "      <td>...</td>\n",
       "      <td>...</td>\n",
       "      <td>...</td>\n",
       "    </tr>\n",
       "    <tr>\n",
       "      <th>26</th>\n",
       "      <td>6</td>\n",
       "      <td>3.8</td>\n",
       "      <td>1</td>\n",
       "      <td>2021-12-27</td>\n",
       "      <td>#bfb8b0</td>\n",
       "      <td>#63887c</td>\n",
       "      <td>#c8d2e5</td>\n",
       "      <td>#bfb8b0</td>\n",
       "    </tr>\n",
       "    <tr>\n",
       "      <th>27</th>\n",
       "      <td>7</td>\n",
       "      <td>5.0</td>\n",
       "      <td>1</td>\n",
       "      <td>2021-12-28</td>\n",
       "      <td>#8c8587</td>\n",
       "      <td>#63887c</td>\n",
       "      <td>#bfb8b0</td>\n",
       "      <td>#8c8587</td>\n",
       "    </tr>\n",
       "    <tr>\n",
       "      <th>28</th>\n",
       "      <td>11</td>\n",
       "      <td>7.0</td>\n",
       "      <td>1</td>\n",
       "      <td>2021-12-29</td>\n",
       "      <td>#b9bea8</td>\n",
       "      <td>#e6d0b7</td>\n",
       "      <td>#8c8587</td>\n",
       "      <td>#b9bea8</td>\n",
       "    </tr>\n",
       "    <tr>\n",
       "      <th>29</th>\n",
       "      <td>13</td>\n",
       "      <td>11.2</td>\n",
       "      <td>9</td>\n",
       "      <td>2021-12-30</td>\n",
       "      <td>#e1b485</td>\n",
       "      <td>#e1b485</td>\n",
       "      <td>#63887c</td>\n",
       "      <td>#e1b485</td>\n",
       "    </tr>\n",
       "    <tr>\n",
       "      <th>30</th>\n",
       "      <td>13</td>\n",
       "      <td>10.6</td>\n",
       "      <td>8</td>\n",
       "      <td>2021-12-31</td>\n",
       "      <td>#e6d0b7</td>\n",
       "      <td>#e1b485</td>\n",
       "      <td>#63887c</td>\n",
       "      <td>#e6d0b7</td>\n",
       "    </tr>\n",
       "  </tbody>\n",
       "</table>\n",
       "<p>365 rows × 8 columns</p>\n",
       "</div>"
      ],
      "text/plain": [
       "    max   avg  min       date uniform_bins scaled_bins mums_bins best_bins\n",
       "0     4  -0.5   -5 2021-01-01      #c8d2e5     #8c8587   #c8d2e5   #c8d2e5\n",
       "1     2  -3.1   -7 2021-01-02      #c8d2e5     #bfb8b0   #c8d2e5   #c8d2e5\n",
       "2     4   0.3   -7 2021-01-03      #c8d2e5     #b9bea8   #c8d2e5   #c8d2e5\n",
       "3     4   3.0    2 2021-01-04      #bfb8b0     #63887c   #c8d2e5   #bfb8b0\n",
       "4     4   2.3   -2 2021-01-05      #bfb8b0     #b9bea8   #c8d2e5   #bfb8b0\n",
       "..  ...   ...  ...        ...          ...         ...       ...       ...\n",
       "26    6   3.8    1 2021-12-27      #bfb8b0     #63887c   #c8d2e5   #bfb8b0\n",
       "27    7   5.0    1 2021-12-28      #8c8587     #63887c   #bfb8b0   #8c8587\n",
       "28   11   7.0    1 2021-12-29      #b9bea8     #e6d0b7   #8c8587   #b9bea8\n",
       "29   13  11.2    9 2021-12-30      #e1b485     #e1b485   #63887c   #e1b485\n",
       "30   13  10.6    8 2021-12-31      #e6d0b7     #e1b485   #63887c   #e6d0b7\n",
       "\n",
       "[365 rows x 8 columns]"
      ]
     },
     "metadata": {},
     "output_type": "display_data"
    }
   ],
   "source": [
    "# Bin the temperatures in the dataframe to simulate blanket\n",
    "df_temp['uniform_bins'] = pd.cut(df_temp['avg'], bins, labels = rgb_color_list, include_lowest=True)\n",
    "df_temp['scaled_bins'] = pd.cut(df_temp['avg'], uniform_bins, labels = rgb_color_list, include_lowest=True)\n",
    "df_temp['mums_bins'] = pd.cut(df_temp['avg'], mums_bins, labels = rgb_color_list, include_lowest=True)\n",
    "df_temp['best_bins'] = pd.cut(df_temp['avg'], best_bins, labels = rgb_color_list, include_lowest=True)\n",
    "\n",
    "display(df_temp)"
   ]
  },
  {
   "cell_type": "code",
   "execution_count": 24,
   "id": "929c732c-c61a-4c2a-a900-7bd01a06095f",
   "metadata": {},
   "outputs": [
    {
     "ename": "TypeError",
     "evalue": "Image data of dtype <U1 cannot be converted to float",
     "output_type": "error",
     "traceback": [
      "\u001b[0;31m---------------------------------------------------------------------------\u001b[0m",
      "\u001b[0;31mTypeError\u001b[0m                                 Traceback (most recent call last)",
      "\u001b[0;32m/var/folders/rq/hbvqbszn0nzdtgnwkfys48sm0000gn/T/ipykernel_42534/1857491369.py\u001b[0m in \u001b[0;36m<module>\u001b[0;34m\u001b[0m\n\u001b[1;32m      7\u001b[0m \u001b[0;34m\u001b[0m\u001b[0m\n\u001b[1;32m      8\u001b[0m \u001b[0mfig\u001b[0m\u001b[0;34m,\u001b[0m \u001b[0max\u001b[0m \u001b[0;34m=\u001b[0m \u001b[0mplt\u001b[0m\u001b[0;34m.\u001b[0m\u001b[0msubplots\u001b[0m\u001b[0;34m(\u001b[0m\u001b[0mfigsize\u001b[0m\u001b[0;34m=\u001b[0m\u001b[0;34m(\u001b[0m\u001b[0;36m18\u001b[0m\u001b[0;34m,\u001b[0m\u001b[0;36m12\u001b[0m\u001b[0;34m)\u001b[0m\u001b[0;34m)\u001b[0m\u001b[0;34m\u001b[0m\u001b[0;34m\u001b[0m\u001b[0m\n\u001b[0;32m----> 9\u001b[0;31m \u001b[0mplt\u001b[0m\u001b[0;34m.\u001b[0m\u001b[0mimshow\u001b[0m\u001b[0;34m(\u001b[0m\u001b[0mimg\u001b[0m\u001b[0;34m,\u001b[0m \u001b[0mextent\u001b[0m\u001b[0;34m=\u001b[0m\u001b[0;34m[\u001b[0m\u001b[0;36m0\u001b[0m\u001b[0;34m,\u001b[0m \u001b[0;36m16000\u001b[0m\u001b[0;34m,\u001b[0m \u001b[0;36m0\u001b[0m\u001b[0;34m,\u001b[0m \u001b[0;36m1\u001b[0m\u001b[0;34m]\u001b[0m\u001b[0;34m,\u001b[0m \u001b[0maspect\u001b[0m\u001b[0;34m=\u001b[0m\u001b[0;34m'auto'\u001b[0m\u001b[0;34m)\u001b[0m\u001b[0;34m\u001b[0m\u001b[0;34m\u001b[0m\u001b[0m\n\u001b[0m",
      "\u001b[0;32m/opt/homebrew/Caskroom/miniconda/base/envs/dev/lib/python3.9/site-packages/matplotlib/pyplot.py\u001b[0m in \u001b[0;36mimshow\u001b[0;34m(X, cmap, norm, aspect, interpolation, alpha, vmin, vmax, origin, extent, filternorm, filterrad, resample, url, data, **kwargs)\u001b[0m\n\u001b[1;32m   2901\u001b[0m         \u001b[0mfilternorm\u001b[0m\u001b[0;34m=\u001b[0m\u001b[0;32mTrue\u001b[0m\u001b[0;34m,\u001b[0m \u001b[0mfilterrad\u001b[0m\u001b[0;34m=\u001b[0m\u001b[0;36m4.0\u001b[0m\u001b[0;34m,\u001b[0m \u001b[0mresample\u001b[0m\u001b[0;34m=\u001b[0m\u001b[0;32mNone\u001b[0m\u001b[0;34m,\u001b[0m \u001b[0murl\u001b[0m\u001b[0;34m=\u001b[0m\u001b[0;32mNone\u001b[0m\u001b[0;34m,\u001b[0m\u001b[0;34m\u001b[0m\u001b[0;34m\u001b[0m\u001b[0m\n\u001b[1;32m   2902\u001b[0m         data=None, **kwargs):\n\u001b[0;32m-> 2903\u001b[0;31m     __ret = gca().imshow(\n\u001b[0m\u001b[1;32m   2904\u001b[0m         \u001b[0mX\u001b[0m\u001b[0;34m,\u001b[0m \u001b[0mcmap\u001b[0m\u001b[0;34m=\u001b[0m\u001b[0mcmap\u001b[0m\u001b[0;34m,\u001b[0m \u001b[0mnorm\u001b[0m\u001b[0;34m=\u001b[0m\u001b[0mnorm\u001b[0m\u001b[0;34m,\u001b[0m \u001b[0maspect\u001b[0m\u001b[0;34m=\u001b[0m\u001b[0maspect\u001b[0m\u001b[0;34m,\u001b[0m\u001b[0;34m\u001b[0m\u001b[0;34m\u001b[0m\u001b[0m\n\u001b[1;32m   2905\u001b[0m         \u001b[0minterpolation\u001b[0m\u001b[0;34m=\u001b[0m\u001b[0minterpolation\u001b[0m\u001b[0;34m,\u001b[0m \u001b[0malpha\u001b[0m\u001b[0;34m=\u001b[0m\u001b[0malpha\u001b[0m\u001b[0;34m,\u001b[0m \u001b[0mvmin\u001b[0m\u001b[0;34m=\u001b[0m\u001b[0mvmin\u001b[0m\u001b[0;34m,\u001b[0m\u001b[0;34m\u001b[0m\u001b[0;34m\u001b[0m\u001b[0m\n",
      "\u001b[0;32m/opt/homebrew/Caskroom/miniconda/base/envs/dev/lib/python3.9/site-packages/matplotlib/__init__.py\u001b[0m in \u001b[0;36minner\u001b[0;34m(ax, data, *args, **kwargs)\u001b[0m\n\u001b[1;32m   1359\u001b[0m     \u001b[0;32mdef\u001b[0m \u001b[0minner\u001b[0m\u001b[0;34m(\u001b[0m\u001b[0max\u001b[0m\u001b[0;34m,\u001b[0m \u001b[0;34m*\u001b[0m\u001b[0margs\u001b[0m\u001b[0;34m,\u001b[0m \u001b[0mdata\u001b[0m\u001b[0;34m=\u001b[0m\u001b[0;32mNone\u001b[0m\u001b[0;34m,\u001b[0m \u001b[0;34m**\u001b[0m\u001b[0mkwargs\u001b[0m\u001b[0;34m)\u001b[0m\u001b[0;34m:\u001b[0m\u001b[0;34m\u001b[0m\u001b[0;34m\u001b[0m\u001b[0m\n\u001b[1;32m   1360\u001b[0m         \u001b[0;32mif\u001b[0m \u001b[0mdata\u001b[0m \u001b[0;32mis\u001b[0m \u001b[0;32mNone\u001b[0m\u001b[0;34m:\u001b[0m\u001b[0;34m\u001b[0m\u001b[0;34m\u001b[0m\u001b[0m\n\u001b[0;32m-> 1361\u001b[0;31m             \u001b[0;32mreturn\u001b[0m \u001b[0mfunc\u001b[0m\u001b[0;34m(\u001b[0m\u001b[0max\u001b[0m\u001b[0;34m,\u001b[0m \u001b[0;34m*\u001b[0m\u001b[0mmap\u001b[0m\u001b[0;34m(\u001b[0m\u001b[0msanitize_sequence\u001b[0m\u001b[0;34m,\u001b[0m \u001b[0margs\u001b[0m\u001b[0;34m)\u001b[0m\u001b[0;34m,\u001b[0m \u001b[0;34m**\u001b[0m\u001b[0mkwargs\u001b[0m\u001b[0;34m)\u001b[0m\u001b[0;34m\u001b[0m\u001b[0;34m\u001b[0m\u001b[0m\n\u001b[0m\u001b[1;32m   1362\u001b[0m \u001b[0;34m\u001b[0m\u001b[0m\n\u001b[1;32m   1363\u001b[0m         \u001b[0mbound\u001b[0m \u001b[0;34m=\u001b[0m \u001b[0mnew_sig\u001b[0m\u001b[0;34m.\u001b[0m\u001b[0mbind\u001b[0m\u001b[0;34m(\u001b[0m\u001b[0max\u001b[0m\u001b[0;34m,\u001b[0m \u001b[0;34m*\u001b[0m\u001b[0margs\u001b[0m\u001b[0;34m,\u001b[0m \u001b[0;34m**\u001b[0m\u001b[0mkwargs\u001b[0m\u001b[0;34m)\u001b[0m\u001b[0;34m\u001b[0m\u001b[0;34m\u001b[0m\u001b[0m\n",
      "\u001b[0;32m/opt/homebrew/Caskroom/miniconda/base/envs/dev/lib/python3.9/site-packages/matplotlib/axes/_axes.py\u001b[0m in \u001b[0;36mimshow\u001b[0;34m(self, X, cmap, norm, aspect, interpolation, alpha, vmin, vmax, origin, extent, filternorm, filterrad, resample, url, **kwargs)\u001b[0m\n\u001b[1;32m   5607\u001b[0m                               resample=resample, **kwargs)\n\u001b[1;32m   5608\u001b[0m \u001b[0;34m\u001b[0m\u001b[0m\n\u001b[0;32m-> 5609\u001b[0;31m         \u001b[0mim\u001b[0m\u001b[0;34m.\u001b[0m\u001b[0mset_data\u001b[0m\u001b[0;34m(\u001b[0m\u001b[0mX\u001b[0m\u001b[0;34m)\u001b[0m\u001b[0;34m\u001b[0m\u001b[0;34m\u001b[0m\u001b[0m\n\u001b[0m\u001b[1;32m   5610\u001b[0m         \u001b[0mim\u001b[0m\u001b[0;34m.\u001b[0m\u001b[0mset_alpha\u001b[0m\u001b[0;34m(\u001b[0m\u001b[0malpha\u001b[0m\u001b[0;34m)\u001b[0m\u001b[0;34m\u001b[0m\u001b[0;34m\u001b[0m\u001b[0m\n\u001b[1;32m   5611\u001b[0m         \u001b[0;32mif\u001b[0m \u001b[0mim\u001b[0m\u001b[0;34m.\u001b[0m\u001b[0mget_clip_path\u001b[0m\u001b[0;34m(\u001b[0m\u001b[0;34m)\u001b[0m \u001b[0;32mis\u001b[0m \u001b[0;32mNone\u001b[0m\u001b[0;34m:\u001b[0m\u001b[0;34m\u001b[0m\u001b[0;34m\u001b[0m\u001b[0m\n",
      "\u001b[0;32m/opt/homebrew/Caskroom/miniconda/base/envs/dev/lib/python3.9/site-packages/matplotlib/image.py\u001b[0m in \u001b[0;36mset_data\u001b[0;34m(self, A)\u001b[0m\n\u001b[1;32m    698\u001b[0m         if (self._A.dtype != np.uint8 and\n\u001b[1;32m    699\u001b[0m                 not np.can_cast(self._A.dtype, float, \"same_kind\")):\n\u001b[0;32m--> 700\u001b[0;31m             raise TypeError(\"Image data of dtype {} cannot be converted to \"\n\u001b[0m\u001b[1;32m    701\u001b[0m                             \"float\".format(self._A.dtype))\n\u001b[1;32m    702\u001b[0m \u001b[0;34m\u001b[0m\u001b[0m\n",
      "\u001b[0;31mTypeError\u001b[0m: Image data of dtype <U1 cannot be converted to float"
     ]
    },
    {
     "data": {
      "image/png": "[encoded data removed]",
      "text/plain": [
       "<Figure size 1296x864 with 1 Axes>"
      ]
     },
     "metadata": {
      "needs_background": "light"
     },
     "output_type": "display_data"
    }
   ],
   "source": [
    "# And display your blanket\n",
    "column = 'best_bins'\n",
    "\n",
    "rgb_array = np.array(df_temp[column].values)\n",
    "rgb_array = np.array([[c[0],c[1],c[2]] for c in rgb_array])\n",
    "img = np.array(rgb_array).reshape((1, len(rgb_array), 3))\n",
    "\n",
    "fig, ax = plt.subplots(figsize=(18,12))\n",
    "plt.imshow(img, extent=[0, 16000, 0, 1], aspect='auto')"
   ]
  },
  {
   "cell_type": "code",
   "execution_count": null,
   "id": "05784b9a-fa03-4096-a40b-f38c9cd0ce76",
   "metadata": {},
   "outputs": [],
   "source": []
  }
 ],
 "metadata": {
  "kernelspec": {
   "display_name": "Python 3 (ipykernel)",
   "language": "python",
   "name": "python3"
  },
  "language_info": {
   "codemirror_mode": {
    "name": "ipython",
    "version": 3
   },
   "file_extension": ".py",
   "mimetype": "text/x-python",
   "name": "python",
   "nbconvert_exporter": "python",
   "pygments_lexer": "ipython3",
   "version": "3.9.5"
  }
 },
 "nbformat": 4,
 "nbformat_minor": 5
}
